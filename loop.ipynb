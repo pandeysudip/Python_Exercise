{
 "cells": [
  {
   "cell_type": "code",
   "execution_count": null,
   "source": [
    "import pandas as pd\n",
    "import matplotlib.pyplot as plt\n",
    "import numpy as np"
   ],
   "outputs": [],
   "metadata": {}
  },
  {
   "cell_type": "markdown",
   "source": [
    "# Exercise for-for and while loop"
   ],
   "metadata": {}
  },
  {
   "cell_type": "markdown",
   "source": [],
   "metadata": {}
  },
  {
   "cell_type": "code",
   "execution_count": null,
   "source": [
    "#Exercise 1: Print First 10 natural numbers using while loop\n",
    "i=0\n",
    "while i<11:\n",
    "    print(i)\n",
    "    i=i+1\n",
    "    "
   ],
   "outputs": [],
   "metadata": {}
  },
  {
   "cell_type": "code",
   "execution_count": null,
   "source": [
    "#Exercise 2: Print the following pattern\n",
    "i=6\n",
    "for row in range(1,6):\n",
    "    for col in range(1, row+1 ):\n",
    "        print (col, end=\"  \")\n",
    "    print(\" \")"
   ],
   "outputs": [],
   "metadata": {}
  },
  {
   "cell_type": "code",
   "execution_count": null,
   "source": [
    "#Exercise 3: Accept number from user and calculate the sum of all number from 1 to a given number\n",
    "n=5\n",
    "sum=0\n",
    "for i in range(n+1):\n",
    "    sum=sum+i\n",
    "    #print(sum)\n",
    "print(sum)"
   ],
   "outputs": [],
   "metadata": {}
  },
  {
   "cell_type": "code",
   "execution_count": null,
   "source": [
    "#Exercise 4: Print multiplication table of a given number\n",
    "x=5\n",
    "for i in range(11):\n",
    "    print(i*x)"
   ],
   "outputs": [],
   "metadata": {}
  },
  {
   "cell_type": "code",
   "execution_count": null,
   "source": [
    "#Exercise 5: Given a list, iterate it, and display numbers divisible by five, \n",
    "#and if you find a number greater than 150, stop the loop iteration.\n",
    "\n",
    "list1 = [12, 15, 32, 42, 55, 75, 122, 132, 150, 180, 200]\n",
    "for i in list1:\n",
    "    if i%5==0 and i<=150:\n",
    "        print(i)\n"
   ],
   "outputs": [],
   "metadata": {}
  },
  {
   "cell_type": "code",
   "execution_count": null,
   "source": [
    "#Exercise 6: Given a number count the total number of digits in a number\n",
    "x=str(56789)\n",
    "print(len(x))"
   ],
   "outputs": [],
   "metadata": {}
  },
  {
   "cell_type": "code",
   "execution_count": null,
   "source": [
    "num = 75869\n",
    "count = 0\n",
    "while num != 0:\n",
    "    num //= 10\n",
    "    count+= 1\n",
    "print(\"Total digits are: \", count)"
   ],
   "outputs": [],
   "metadata": {}
  },
  {
   "cell_type": "code",
   "execution_count": null,
   "source": [
    "for row in range(6,0):\n",
    "    print(row)"
   ],
   "outputs": [],
   "metadata": {}
  },
  {
   "cell_type": "code",
   "execution_count": null,
   "source": [
    "#Exercise 7: Print the following pattern using for loop\n",
    "n=5\n",
    "for row in (range(n+1)):\n",
    "    for column in range(n-row, 0,-1):\n",
    "        print(column, end=\" \")\n",
    "    #new line after each row\n",
    "    print()"
   ],
   "outputs": [],
   "metadata": {}
  },
  {
   "cell_type": "code",
   "execution_count": null,
   "source": [
    "#Exercise 8:Reverse the following list using for loop\n",
    "list1 = [10, 20, 30, 40, 50]\n",
    "for i in reversed(list1):\n",
    "    print(i)"
   ],
   "outputs": [],
   "metadata": {}
  },
  {
   "cell_type": "code",
   "execution_count": null,
   "source": [
    "list1 = [10, 20, 30, 40, 50]\n",
    "start = len(list1) - 1\n",
    "stop = -1\n",
    "step = -1\n",
    "for i in range(start, stop, step) :\n",
    "    print(list1[i])"
   ],
   "outputs": [],
   "metadata": {}
  },
  {
   "cell_type": "code",
   "execution_count": null,
   "source": [
    "#Exercise 9: Display numbers from -10 to -1 using for loop\n",
    "for i in range(-10,0,1):\n",
    "    print(i)\n"
   ],
   "outputs": [],
   "metadata": {}
  },
  {
   "cell_type": "code",
   "execution_count": null,
   "source": [
    "#Exercise 10: Display a message “Done” after successful execution of for loop\n",
    "for i in range(5):\n",
    "    print(i)\n",
    "print(\"Done\")"
   ],
   "outputs": [],
   "metadata": {}
  },
  {
   "cell_type": "code",
   "execution_count": null,
   "source": [
    "#Exercise 11: Write a program to display all prime numbers within a range\n",
    "start=25\n",
    "end=50\n",
    "for num in range(start, end+1):\n",
    "    for i in range(2, num):\n",
    "        if num%i ==0:\n",
    "            break\n",
    "    else:\n",
    "        print(num)\n"
   ],
   "outputs": [],
   "metadata": {}
  },
  {
   "cell_type": "code",
   "execution_count": null,
   "source": [
    "#Exercise 12: Display Fibonacci series up to 10 terms\n",
    "a,b=1,1\n",
    "for i in range(10):\n",
    "    print(\"Fib(a)\", a, \"b\", b)\n",
    "    a,b=b,a+b"
   ],
   "outputs": [],
   "metadata": {}
  },
  {
   "cell_type": "code",
   "execution_count": null,
   "source": [
    "terms = 10\n",
    "# first two terms\n",
    "num1, num2 = 0, 1\n",
    "count = 0\n",
    "\n",
    "print(\"Fibonacci sequence:\")\n",
    "while count < terms:\n",
    "    print(num1, end=\"  \")\n",
    "    temp = num1 + num2\n",
    "    # update values\n",
    "    num1 = num2\n",
    "    num2 = temp\n",
    "    count += 1"
   ],
   "outputs": [],
   "metadata": {}
  },
  {
   "cell_type": "code",
   "execution_count": null,
   "source": [
    "#Exercise 13: Write a loop to find the factorial of any number\n",
    "factorial=1\n",
    "for i in range(1,6):\n",
    "    factorial=factorial*i\n",
    "print(factorial)\n"
   ],
   "outputs": [],
   "metadata": {}
  },
  {
   "cell_type": "code",
   "execution_count": null,
   "source": [
    "#Exercise 14: Reverse a given integer number\n",
    "num=12345\n",
    "while num>0:\n",
    "    digit=num%10\n",
    "    num//=10\n",
    "    print(digit, end=\"\")\n"
   ],
   "outputs": [],
   "metadata": {}
  },
  {
   "cell_type": "code",
   "execution_count": null,
   "source": [
    "num=str(12345)\n",
    "length=len(num)\n",
    "for i in range(length,0,-1):\n",
    "    print(int(num[i-1]),end='')"
   ],
   "outputs": [],
   "metadata": {}
  },
  {
   "cell_type": "code",
   "execution_count": null,
   "source": [
    "#Exercise 15 Use a loop to display elements from a given list that are present at odd index positions\n",
    "my_list = [10, 20, 30, 40, 50, 60, 70, 80, 90, 100]\n",
    "for i, num in enumerate(my_list):\n",
    "    if i%2!=0:\n",
    "        print(num, end=\",\")\n"
   ],
   "outputs": [],
   "metadata": {}
  },
  {
   "cell_type": "code",
   "execution_count": null,
   "source": [
    "#Exercise 16: Display the cube of the number up to a given integer\n",
    "num=6\n",
    "for i in range(1,num+1):\n",
    "    print(\"number is: \", i , \" and the cube is \" , i**3)"
   ],
   "outputs": [],
   "metadata": {}
  },
  {
   "cell_type": "code",
   "execution_count": null,
   "source": [
    "#Exercise 17: Find the sum of the series 2 +22 + 222 + 2222 + .. n terms\n",
    "number_of_terms = 5\n",
    "start = 2\n",
    "sum = 0\n",
    "for i in range(0, number_of_terms):\n",
    "    print(start, end=\" \")\n",
    "    sum += start\n",
    "    start = (start * 10) + 2\n",
    "print(\"\\nSum of above series is:\", sum)\n"
   ],
   "outputs": [],
   "metadata": {}
  },
  {
   "cell_type": "code",
   "execution_count": null,
   "source": [
    "#Exercise 18: Print the following pattern#\n",
    "for row in range(1,6):\n",
    "    for col in range(row):\n",
    "        print(\"*\", end=\" \")\n",
    "    print(\"\")\n",
    "for row in reversed(range(5)):\n",
    "    for col in range(row):\n",
    "        print(\"*\", end=\" \")\n",
    "    print(\"\")\n"
   ],
   "outputs": [],
   "metadata": {}
  },
  {
   "cell_type": "code",
   "execution_count": null,
   "source": [
    "num=8\n",
    "for i in range(1, num+1):\n",
    "    print(\"* \" * i, end=\"\")\n",
    "    print()\n",
    "\n",
    "for j in range(num-1, 0, -1):\n",
    "    print(\"* \" * j, end=\"\")\n",
    "    print()"
   ],
   "outputs": [],
   "metadata": {}
  },
  {
   "cell_type": "code",
   "execution_count": null,
   "source": [
    "# middle three characte\n",
    "str1=\"sudipandey\"\n"
   ],
   "outputs": [],
   "metadata": {}
  },
  {
   "cell_type": "code",
   "execution_count": null,
   "source": [],
   "outputs": [],
   "metadata": {}
  },
  {
   "cell_type": "code",
   "execution_count": null,
   "source": [
    "#Numpy\n",
    "#Exercise 19: Create a 4X2 integer array and Prints its attributes\n",
    "import numpy as np\n",
    "x=np.random.randn(8).reshape(4,2)\n",
    "print(x)\n",
    "print(x.shape)\n",
    "print(x.ndim)\n",
    "print(x.itemsize)\n"
   ],
   "outputs": [],
   "metadata": {}
  },
  {
   "cell_type": "code",
   "execution_count": null,
   "source": [
    "np.empty([4,2], dtype=np.int_)\n"
   ],
   "outputs": [],
   "metadata": {}
  },
  {
   "cell_type": "code",
   "execution_count": null,
   "source": [
    "#Exercise 20: Create a 5X2 integer array from a range between 100 to 200 such that the difference \n",
    "# between each element is 10\n",
    "x= np.arange(100, 200, 10).reshape(5,2)\n",
    "\n",
    "    \n",
    "print(x)"
   ],
   "outputs": [],
   "metadata": {}
  },
  {
   "cell_type": "code",
   "execution_count": null,
   "source": [
    "#Exercise 21: Following is the provided numPy array. Return array of items by taking \n",
    "# the third column from all rows\n",
    "sampleArray = np.array([[11 ,22, 33], [44, 55, 66], [77, 88, 99]])\n",
    "print(sampleArray)\n",
    "print(\"------------\")\n",
    "print(sampleArray[:,2])"
   ],
   "outputs": [],
   "metadata": {}
  },
  {
   "cell_type": "code",
   "execution_count": null,
   "source": [
    "#Exercise 22: Return array of odd rows and even columns from below numpy array\n",
    "sampleArray = np.array([[3 ,6, 9, 12], [15 ,18, 21, 24], \n",
    "[27 ,30, 33, 36], [39 ,42, 45, 48], [51 ,54, 57, 60]])\n",
    "print(sampleArray)\n",
    "print(sampleArray[::2,1::2])"
   ],
   "outputs": [],
   "metadata": {}
  },
  {
   "cell_type": "code",
   "execution_count": null,
   "source": [
    "#Exercise 23: Create a result array by adding the following two NumPy arrays. Next, modify the result array by calculating the square \n",
    "# of each element\n",
    "arrayOne = np.array([[5, 6, 9], [21 ,18, 27]])\n",
    "arrayTwo = np.array([[15 ,33, 24], [4 ,7, 1]])\n",
    "arraythree=arrayOne+arrayTwo\n",
    "print(arraythree)\n",
    "print(arraythree*arraythree)"
   ],
   "outputs": [],
   "metadata": {}
  },
  {
   "cell_type": "code",
   "execution_count": null,
   "source": [
    "#Exercise 24: Split the array into four equal-sized sub-arrays\n",
    "x=np.arange(10,34).reshape(8,3)\n",
    "print(x)\n",
    "np.split(x, 4)"
   ],
   "outputs": [],
   "metadata": {}
  },
  {
   "cell_type": "code",
   "execution_count": null,
   "source": [
    "#Exercise 25: Sort following NumPy array\n",
    "sampleArray = np.array([[34,43,73],[82,22,12],[53,94,66]])\n",
    "np.sort(sampleArray, axis=0)"
   ],
   "outputs": [],
   "metadata": {}
  },
  {
   "cell_type": "code",
   "execution_count": null,
   "source": [
    "#Exercise 26: Print max from axis 0 and min from axis 1 from the following 2-D array.\n",
    "sampleArray = np.array([[34,43,73],[82,22,12],[53,94,66]])\n",
    "print(sampleArray)\n",
    "np.max(sampleArray,axis=1)"
   ],
   "outputs": [],
   "metadata": {}
  },
  {
   "cell_type": "code",
   "execution_count": null,
   "source": [
    "#Exercise 27: Delete the second column from a given array and insert \n",
    "# the following new column in its place.\n",
    "sampleArray = np.array([[34,43,73],[82,22,12],[53,94,66]]) \n",
    "newColumn = np.array([[10,10,10]])\n",
    "print(sampleArray)\n",
    "np.delete(sampleArray, 1, axis=1 )\n",
    "np.insert(sampleArray, 1, newColumn, axis=1)"
   ],
   "outputs": [],
   "metadata": {}
  },
  {
   "cell_type": "code",
   "execution_count": null,
   "source": [
    "#Exercise 28: Create two 2-D arrays and Plot them using matplotlib\n",
    "x=np.random.randn(100).reshape(10,10)\n",
    "x"
   ],
   "outputs": [],
   "metadata": {}
  }
 ],
 "metadata": {
  "kernelspec": {
   "name": "python3",
   "display_name": "Python 3.8.10 64-bit ('base': conda)"
  },
  "language_info": {
   "codemirror_mode": {
    "name": "ipython",
    "version": 3
   },
   "file_extension": ".py",
   "mimetype": "text/x-python",
   "name": "python",
   "nbconvert_exporter": "python",
   "pygments_lexer": "ipython3",
   "version": "3.8.10"
  },
  "interpreter": {
   "hash": "817077e1a2d020cbb8b998b22ffbd878007d2286ff42cfcca3891d7d3f8316c3"
  }
 },
 "nbformat": 4,
 "nbformat_minor": 5
}